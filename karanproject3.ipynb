{
 "cells": [
  {
   "cell_type": "raw",
   "id": "6155ff36-55fc-468d-92a5-554b666bd62c",
   "metadata": {},
   "source": [
    "Q1 Scenarios for Multithreading vs. Multiprocessing\n",
    "Ans -  Multithreading is preferable when:\n",
    "\n",
    "The task is I/O-bound (e.g., reading/writing to files, network requests).\n",
    "Threads need to share data or memory space directly without copying.\n",
    "Lightweight context switching is desired since threads operate within the same process.\n",
    "Multiprocessing is preferable when:\n",
    "\n",
    "The task is CPU-bound and requires computation across multiple cores.\n",
    "Processes need isolation for safety or to avoid global interpreter lock (GIL) issues.\n",
    "Fault tolerance is needed; crashes in one process won’t directly affect others."
   ]
  },
  {
   "cell_type": "raw",
   "id": "3b1d996b-adfe-49ef-bbf4-575d972dba36",
   "metadata": {},
   "source": [
    "2. What is a Process Pool?\n",
    "\n",
    "Ans = A process pool is a collection of worker processes maintained for executing tasks concurrently. It manages multiple processes efficiently by reusing them for executing tasks. The multiprocessing.Pool class in Python provides mechanisms to distribute tasks among processes, handle inter-process communication, and aggregate results.\n",
    "\n",
    "Advantages:\n",
    "\n",
    "Reduces the overhead of process creation and destruction.\n",
    "Simplifies the management of parallel tasks.\n",
    "Provides a clean API for applying functions concurrently (e.g., map, apply_async).\n"
   ]
  },
  {
   "cell_type": "raw",
   "id": "83c02215-74ac-434f-b9d6-4f38605afb45",
   "metadata": {},
   "source": [
    "3. What is Multiprocessing in Python?\n",
    "ans = Multiprocessing is a technique that allows Python programs to spawn multiple processes for concurrent execution. Unlike multithreading, each process runs in its own memory space and can utilize multiple CPU cores, bypassing the limitations of the GIL.\n",
    "\n",
    "Why use multiprocessing?\n",
    "\n",
    "To achieve parallel execution for CPU-bound tasks.\n",
    "To improve performance for heavy computations or simulations.\n",
    "To isolate tasks for better fault tolerance and debugging."
   ]
  },
  {
   "cell_type": "code",
   "execution_count": 1,
   "id": "5f531f0f-e20f-485e-b618-d9bf752c651f",
   "metadata": {},
   "outputs": [
    {
     "name": "stdout",
     "output_type": "stream",
     "text": [
      "Added: 0\n",
      "Removed: 0\n",
      "Added: 1\n",
      "Removed: 1\n",
      "Added: 2\n",
      "Added: 3\n",
      "Removed: 2\n",
      "Added: 4\n",
      "Removed: 3\n",
      "Added: 5\n",
      "Added: 6\n",
      "Removed: 4\n",
      "Added: 7\n",
      "Removed: 5\n",
      "Added: 8\n",
      "Added: 9\n",
      "Removed: 6\n",
      "Removed: 7\n",
      "Removed: 8\n",
      "Removed: 9\n",
      "Final list: []\n"
     ]
    }
   ],
   "source": [
    "# 4. Multithreading Program with Race Condition Avoidance\n",
    "# python\n",
    "import threading\n",
    "import time\n",
    "\n",
    "# Shared list and lock\n",
    "shared_list = []\n",
    "list_lock = threading.Lock()\n",
    "\n",
    "def add_numbers():\n",
    "    for i in range(10):\n",
    "        with list_lock:  # Acquire lock\n",
    "            shared_list.append(i)\n",
    "            print(f\"Added: {i}\")\n",
    "        time.sleep(0.1)\n",
    "\n",
    "def remove_numbers():\n",
    "    for _ in range(10):\n",
    "        with list_lock:  # Acquire lock\n",
    "            if shared_list:\n",
    "                removed = shared_list.pop(0)\n",
    "                print(f\"Removed: {removed}\")\n",
    "        time.sleep(0.15)\n",
    "\n",
    "# Create threads\n",
    "thread1 = threading.Thread(target=add_numbers)\n",
    "thread2 = threading.Thread(target=remove_numbers)\n",
    "\n",
    "# Start threads\n",
    "thread1.start()\n",
    "thread2.start()\n",
    "\n",
    "# Wait for threads to finish\n",
    "thread1.join()\n",
    "thread2.join()\n",
    "\n",
    "print(\"Final list:\", shared_list)\n"
   ]
  },
  {
   "cell_type": "raw",
   "id": "acea8db2-7f5f-405e-90b7-aac7a3a18541",
   "metadata": {},
   "source": [
    " 5. Sharing Data Safely Between Threads and Processes\n",
    " For Threads:\n",
    "\n",
    "threading.Lock for mutual exclusion.\n",
    "threading.RLock for reentrant locks.\n",
    "queue.Queue for thread-safe queues.\n",
    "For Processes:\n",
    "\n",
    "multiprocessing.Queue for inter-process communication.\n",
    "multiprocessing.Value and multiprocessing.Array for shared memory.\n",
    "Manager objects (e.g., multiprocessing.Manager().list).\n"
   ]
  },
  {
   "cell_type": "raw",
   "id": "5144789e-a7de-45d7-864a-59024304ccd9",
   "metadata": {},
   "source": [
    "Q6 Handling Exceptions in Concurrent Programs\n",
    "Importance:\n",
    "\n",
    "Prevents cascading failures in concurrent tasks.\n",
    "Ensures graceful termination and resource cleanup.\n",
    "Techniques:\n",
    "\n",
    "Wrap code in try...except blocks.\n",
    "Use callback functions in ThreadPoolExecutor or apply_async.\n",
    "Collect and re-raise exceptions using concurrent.futures.as_completed.\n",
    "\n"
   ]
  },
  {
   "cell_type": "code",
   "execution_count": 5,
   "id": "4352ede6-d0b7-4b3e-82aa-1a2aed957f83",
   "metadata": {},
   "outputs": [
    {
     "name": "stdout",
     "output_type": "stream",
     "text": [
      "Factorials: [1, 2, 6, 24, 120, 720, 5040, 40320, 362880, 3628800]\n"
     ]
    }
   ],
   "source": [
    "# 7. Thread Pool Program for Factorials\n",
    "\n",
    "from concurrent.futures import ThreadPoolExecutor\n",
    "from math import factorial\n",
    "\n",
    "def calculate_factorial(n):\n",
    "    return factorial(n)\n",
    "\n",
    "if __name__ == \"__main__\":\n",
    "    numbers = range(1, 11)\n",
    "\n",
    "    with ThreadPoolExecutor(max_workers=5) as executor:\n",
    "        results = executor.map(calculate_factorial, numbers)\n",
    "\n",
    "    print(\"Factorials:\", list(results))"
   ]
  },
  {
   "cell_type": "code",
   "execution_count": null,
   "id": "049da122-92d1-4870-aafe-3ed63aeb0839",
   "metadata": {},
   "outputs": [],
   "source": [
    "# q8. Multiprocessing Pool for Squaring Numbers\n",
    "from multiprocessing import Pool\n",
    "import time\n",
    "\n",
    "def square(n):\n",
    "    return n * n\n",
    "\n",
    "if __name__ == \"__main__\":\n",
    "    numbers = range(1, 11)\n",
    "\n",
    "    for pool_size in [2, 4, 8]:\n",
    "        start_time = time.time()\n",
    "\n",
    "        with Pool(pool_size) as pool:\n",
    "            results = pool.map(square, numbers)\n",
    "\n",
    "        end_time = time.time()\n",
    "        print(f\"Pool size {pool_size}, Results: {results}, Time: {end_time - start_time:.4f} seconds\")\n"
   ]
  },
  {
   "cell_type": "code",
   "execution_count": null,
   "id": "53e3332c-2fa8-4da5-9b2c-d3a57e43fe09",
   "metadata": {},
   "outputs": [],
   "source": []
  },
  {
   "cell_type": "code",
   "execution_count": null,
   "id": "999f0616-a60e-4932-8615-6fa169694346",
   "metadata": {},
   "outputs": [],
   "source": []
  },
  {
   "cell_type": "code",
   "execution_count": null,
   "id": "039fcacd-aed8-4041-a8a4-af93473e5c12",
   "metadata": {},
   "outputs": [],
   "source": []
  },
  {
   "cell_type": "code",
   "execution_count": null,
   "id": "f192b7bf-cfed-494e-a4e8-2f24b5d172fc",
   "metadata": {},
   "outputs": [],
   "source": []
  },
  {
   "cell_type": "code",
   "execution_count": null,
   "id": "fd50dfec-8ae2-4e1c-b74a-e7cc9ba58d2c",
   "metadata": {},
   "outputs": [],
   "source": []
  },
  {
   "cell_type": "code",
   "execution_count": null,
   "id": "6e62ef90-dddc-429c-b64b-fc32b2caba07",
   "metadata": {},
   "outputs": [],
   "source": []
  },
  {
   "cell_type": "code",
   "execution_count": null,
   "id": "241eb381-9f7f-4a81-96b7-b00b5e3b175c",
   "metadata": {},
   "outputs": [],
   "source": []
  },
  {
   "cell_type": "code",
   "execution_count": null,
   "id": "bc1c97c6-0644-4451-ba55-2ba55adc9597",
   "metadata": {},
   "outputs": [],
   "source": []
  }
 ],
 "metadata": {
  "kernelspec": {
   "display_name": "Python 3 (ipykernel)",
   "language": "python",
   "name": "python3"
  },
  "language_info": {
   "codemirror_mode": {
    "name": "ipython",
    "version": 3
   },
   "file_extension": ".py",
   "mimetype": "text/x-python",
   "name": "python",
   "nbconvert_exporter": "python",
   "pygments_lexer": "ipython3",
   "version": "3.12.4"
  }
 },
 "nbformat": 4,
 "nbformat_minor": 5
}
